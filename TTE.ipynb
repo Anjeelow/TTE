{
 "cells": [
  {
   "cell_type": "markdown",
   "metadata": {},
   "source": [
    "# Target Trial Emulation: Translation from R to Python\n",
    "\n",
    "This notebook provides a Python implementation of the **Target Trial Emulation** process, originally outlined in the [RPubs article by Alan Yang](https://rpubs.com/alanyang0924/TTE). The goal is to replicate the R-based workflow using Python libraries such as `pandas`, `statsmodels`, and `scikit-learn`.\n",
    "\n",
    "## Overview\n",
    "\n",
    "The process involves the following **8 steps**:\n",
    "\n",
    "1. **Load Libraries and Data**: Import necessary Python libraries and load the observational dataset.\n",
    "2. **Define Estimands**: Specify the estimand of interest, such as **Intention-to-Treat (ITT)** or **Per-Protocol (PP)**.\n",
    "3. **Create Directories for Saving Files**: Set up directories to save intermediate and final results.\n",
    "4. **Define Functions for Weight Calculation**: Implement functions to calculate **Inverse Probability of Censoring Weights (IPCW)** for treatment switching and informative censoring.\n",
    "5. **Expand the Dataset**: Transform the observational data into a sequence of trials using pre-defined expansion options.\n",
    "6. **Calculate Weights for the Expanded Dataset**: Compute weights for the expanded dataset to adjust for biases.\n",
    "7. **Fit Marginal Structural Models (MSM)**: Estimate causal effects using weighted regression models.\n",
    "8. **Aggregate Predictions and Plot Survival Probability**: Generate predictions (e.g., survival probabilities) and visualize results to compare treatment effects over time.\n",
    "\n",
    "## Dataset\n",
    "\n",
    "The dataset (`data_censored.csv`) should contain the following columns:\n",
    "- `id`: Unique identifier for each subject.\n",
    "- `period`: Time period.\n",
    "- `treatment`: Treatment indicator (0 or 1).\n",
    "- `x1`, `x2`, `x3`, `x4`: Covariates.\n",
    "- `age`: Age of the subject.\n",
    "- `outcome`: Binary outcome (0 or 1).\n",
    "- `censored`: Censoring indicator (0 or 1).\n",
    "- `eligible`: Eligibility indicator (0 or 1).\n",
    "\n",
    "## References\n",
    "\n",
    "- Original R Tutorial: [RPubs - Target Trial Emulation](https://rpubs.com/alanyang0924/TTE)\n",
    "- Python Libraries Used: `pandas`, `statsmodels`, `scikit-learn`, `matplotlib`"
   ]
  },
  {
   "cell_type": "markdown",
   "metadata": {},
   "source": [
    "# Step 1: Load Libraries and Data"
   ]
  },
  {
   "cell_type": "code",
   "execution_count": 9,
   "metadata": {},
   "outputs": [
    {
     "name": "stdout",
     "output_type": "stream",
     "text": [
      "   id  period  treatment  x1        x2  x3        x4  age     age_s  outcome  \\\n",
      "0   1       0          1   1  1.146148   0  0.734203   36  0.083333        0   \n",
      "1   1       1          1   1  0.002200   0  0.734203   37  0.166667        0   \n",
      "2   1       2          1   0 -0.481762   0  0.734203   38  0.250000        0   \n",
      "3   1       3          1   0  0.007872   0  0.734203   39  0.333333        0   \n",
      "4   1       4          1   1  0.216054   0  0.734203   40  0.416667        0   \n",
      "\n",
      "   censored  eligible  \n",
      "0         0         1  \n",
      "1         0         0  \n",
      "2         0         0  \n",
      "3         0         0  \n",
      "4         0         0  \n"
     ]
    }
   ],
   "source": [
    "import os\n",
    "from tempfile import mkdtemp\n",
    "import pandas as pd\n",
    "from sklearn.linear_model import LogisticRegression\n",
    "import statsmodels.api as sm\n",
    "import statsmodels.formula.api as smf\n",
    "import matplotlib.pyplot as plt\n",
    "\n",
    "# Load the dataset\n",
    "data_censored = pd.read_csv(\"Data/data_censored.csv\")\n",
    "print(data_censored.head())"
   ]
  },
  {
   "cell_type": "markdown",
   "metadata": {},
   "source": [
    "# Step 2: Define Estimands"
   ]
  },
  {
   "cell_type": "code",
   "execution_count": 10,
   "metadata": {},
   "outputs": [],
   "source": [
    "trial_pp = {\"estimand\": \"PP\"}  # Per-protocol\n",
    "trial_itt = {\"estimand\": \"ITT\"}  # Intention-to-treat\n",
    "\n",
    "# Set data for Per-protocol and ITT\n",
    "trial_pp.update({\n",
    "    \"data\": data_censored,\n",
    "    \"id_col\": \"id\",\n",
    "    \"period_col\": \"period\",\n",
    "    \"treatment_col\": \"treatment\",\n",
    "    \"outcome_col\": \"outcome\",\n",
    "    \"eligible_col\": \"eligible\"\n",
    "})\n",
    "\n",
    "trial_itt.update(trial_pp)"
   ]
  },
  {
   "cell_type": "markdown",
   "metadata": {},
   "source": [
    "# Step 3: Create Directories for Saving Files"
   ]
  },
  {
   "cell_type": "code",
   "execution_count": 11,
   "metadata": {},
   "outputs": [
    {
     "name": "stdout",
     "output_type": "stream",
     "text": [
      "Per-protocol directory: C:\\Users\\ANGELO~1\\AppData\\Local\\Temp\\tmpleqnirzl\\trial_pp\n",
      "Intention-to-treat directory: C:\\Users\\ANGELO~1\\AppData\\Local\\Temp\\tmp2ff6sb0u\\trial_itt\n"
     ]
    }
   ],
   "source": [
    "trial_pp_dir = os.path.join(mkdtemp(), \"trial_pp\")\n",
    "os.makedirs(trial_pp_dir, exist_ok=True)\n",
    "\n",
    "trial_itt_dir = os.path.join(mkdtemp(), \"trial_itt\")\n",
    "os.makedirs(trial_itt_dir, exist_ok=True)\n",
    "\n",
    "print(f\"Per-protocol directory: {trial_pp_dir}\")\n",
    "print(f\"Intention-to-treat directory: {trial_itt_dir}\")"
   ]
  },
  {
   "cell_type": "markdown",
   "metadata": {},
   "source": [
    "# Step 4: Define Functions for Weight Calculation"
   ]
  },
  {
   "cell_type": "code",
   "execution_count": 12,
   "metadata": {},
   "outputs": [],
   "source": [
    "def calculate_weights(data, numerator_formula, denominator_formula, treatment_col):\n",
    "    \"\"\"Calculate weights for treatment switching.\"\"\"\n",
    "    numerator_model = LogisticRegression()\n",
    "    numerator_model.fit(data[numerator_formula.split(\" + \")], data[treatment_col])\n",
    "\n",
    "    denominator_model = LogisticRegression()\n",
    "    denominator_model.fit(data[denominator_formula.split(\" + \")], data[treatment_col])\n",
    "\n",
    "    numerator_probs = numerator_model.predict_proba(data[numerator_formula.split(\" + \")])[:, 1]\n",
    "    denominator_probs = denominator_model.predict_proba(data[denominator_formula.split(\" + \")])[:, 1]\n",
    "    return numerator_probs / denominator_probs\n",
    "\n",
    "def calculate_censor_weights(data, censor_event, numerator_formula, denominator_formula):\n",
    "    \"\"\"Calculate weights for informative censoring.\"\"\"\n",
    "    numerator_model = LogisticRegression()\n",
    "    numerator_model.fit(data[numerator_formula.split(\" + \")], 1 - data[censor_event])\n",
    "\n",
    "    denominator_model = LogisticRegression()\n",
    "    denominator_model.fit(data[denominator_formula.split(\" + \")], 1 - data[censor_event])\n",
    "\n",
    "    numerator_probs = numerator_model.predict_proba(data[numerator_formula.split(\" + \")])[:, 1]\n",
    "    denominator_probs = denominator_model.predict_proba(data[denominator_formula.split(\" + \")])[:, 1]\n",
    "    return numerator_probs / denominator_probs"
   ]
  },
  {
   "cell_type": "markdown",
   "metadata": {},
   "source": [
    "# Step 5: Expand the Dataset into a Sequence of Trials"
   ]
  },
  {
   "cell_type": "code",
   "execution_count": 13,
   "metadata": {},
   "outputs": [],
   "source": [
    "def expand_trials(data, id_col, period_col, treatment_col, outcome_col):\n",
    "    \"\"\"Expand the dataset into a sequence of trials.\"\"\"\n",
    "    expanded_data = []\n",
    "    for period in data[period_col].unique():\n",
    "        trial_data = data[data[period_col] <= period].copy()\n",
    "        trial_data[\"trial_period\"] = period\n",
    "        expanded_data.append(trial_data)\n",
    "    return pd.concat(expanded_data)\n",
    "\n",
    "# Expand the dataset\n",
    "trial_pp_expanded = expand_trials(\n",
    "    data=trial_pp[\"data\"],\n",
    "    id_col=\"id\",\n",
    "    period_col=\"period\",\n",
    "    treatment_col=\"treatment\",\n",
    "    outcome_col=\"outcome\"\n",
    ")"
   ]
  },
  {
   "cell_type": "markdown",
   "metadata": {},
   "source": [
    "# Step 6: Calculate Weights for the Expanded Dataset"
   ]
  },
  {
   "cell_type": "code",
   "execution_count": 14,
   "metadata": {},
   "outputs": [],
   "source": [
    "trial_pp[\"switch_weights\"] = calculate_weights(\n",
    "    data=trial_pp_expanded,\n",
    "    numerator_formula=\"age\",\n",
    "    denominator_formula=\"age + x1 + x3\",\n",
    "    treatment_col=\"treatment\"\n",
    ")\n",
    "\n",
    "trial_pp[\"censor_weights\"] = calculate_censor_weights(\n",
    "    data=trial_pp_expanded,\n",
    "    censor_event=\"censored\",\n",
    "    numerator_formula=\"x2\",\n",
    "    denominator_formula=\"x2 + x1\"\n",
    ")\n",
    "\n",
    "trial_itt[\"censor_weights\"] = calculate_censor_weights(\n",
    "    data=trial_pp_expanded,\n",
    "    censor_event=\"censored\",\n",
    "    numerator_formula=\"x2\",\n",
    "    denominator_formula=\"x2 + x1\"\n",
    ")\n",
    "\n",
    "# Combine weights\n",
    "trial_pp[\"weights\"] = trial_pp[\"switch_weights\"] * trial_pp[\"censor_weights\"]\n",
    "trial_itt[\"weights\"] = trial_itt[\"censor_weights\"]"
   ]
  },
  {
   "cell_type": "markdown",
   "metadata": {},
   "source": [
    "# Step 7: Fit the Marginal Structural Model (MSM)"
   ]
  },
  {
   "cell_type": "code",
   "execution_count": 15,
   "metadata": {},
   "outputs": [
    {
     "name": "stdout",
     "output_type": "stream",
     "text": [
      "                 Generalized Linear Model Regression Results                  \n",
      "==============================================================================\n",
      "Dep. Variable:                outcome   No. Observations:                 9388\n",
      "Model:                            GLM   Df Residuals:                  9492.23\n",
      "Model Family:                Binomial   Df Model:                            4\n",
      "Link Function:                  Logit   Scale:                          1.0000\n",
      "Method:                          IRLS   Log-Likelihood:                -649.19\n",
      "Date:                Fri, 07 Mar 2025   Deviance:                       1298.4\n",
      "Time:                        13:01:58   Pearson chi2:                 7.34e+03\n",
      "No. Iterations:                     8   Pseudo R-squ. (CS):            0.02717\n",
      "Covariance Type:            nonrobust                                         \n",
      "==============================================================================\n",
      "                 coef    std err          z      P>|z|      [0.025      0.975]\n",
      "------------------------------------------------------------------------------\n",
      "Intercept     -3.7039      0.147    -25.115      0.000      -3.993      -3.415\n",
      "treatment     -2.1672      0.212    -10.233      0.000      -2.582      -1.752\n",
      "x2             0.4364      0.093      4.677      0.000       0.254       0.619\n",
      "x3             0.1056      0.174      0.608      0.543      -0.235       0.446\n",
      "x4             1.6314      0.122     13.388      0.000       1.393       1.870\n",
      "==============================================================================\n"
     ]
    }
   ],
   "source": [
    "trial_pp[\"outcome_formula\"] = \"outcome ~ treatment + x2 + x3 + x4\"\n",
    "trial_itt[\"outcome_formula\"] = \"outcome ~ treatment + x2 + x3 + x4\"\n",
    "\n",
    "def fit_msm(data, formula, weights):\n",
    "    \"\"\"Fit a marginal structural model.\"\"\"\n",
    "    model = smf.glm(formula, data=data, family=sm.families.Binomial(), freq_weights=weights)\n",
    "    return model.fit()\n",
    "\n",
    "# Fit the MSM\n",
    "msm_results = fit_msm(\n",
    "    data=trial_pp_expanded,\n",
    "    formula=trial_pp[\"outcome_formula\"],\n",
    "    weights=trial_pp[\"weights\"]\n",
    ")\n",
    "\n",
    "print(msm_results.summary())"
   ]
  },
  {
   "cell_type": "markdown",
   "metadata": {},
   "source": [
    "# Step 8: Aggregate Predictions and Plot Survival Probability"
   ]
  },
  {
   "cell_type": "code",
   "execution_count": 16,
   "metadata": {},
   "outputs": [
    {
     "data": {
      "image/png": "[encoded data removed]",
      "text/plain": [
       "<Figure size 640x480 with 1 Axes>"
      ]
     },
     "metadata": {},
     "output_type": "display_data"
    }
   ],
   "source": [
    "# Add predicted survival probabilities to the expanded dataset\n",
    "trial_pp_expanded[\"predicted_survival\"] = msm_results.predict(exog=trial_pp_expanded)\n",
    "\n",
    "# Aggregate predictions by time\n",
    "aggregated_predictions = trial_pp_expanded.groupby(\"trial_period\")[\"predicted_survival\"].mean()\n",
    "\n",
    "# Plot survival probability\n",
    "plt.plot(aggregated_predictions.index, aggregated_predictions.values, label=\"Survival Probability\")\n",
    "plt.xlabel(\"Follow-up Time\")\n",
    "plt.ylabel(\"Survival Probability\")\n",
    "plt.title(\"Survival Probability Over Time\")\n",
    "plt.legend()\n",
    "plt.show()"
   ]
  }
 ],
 "metadata": {
  "kernelspec": {
   "display_name": "Python 3",
   "language": "python",
   "name": "python3"
  },
  "language_info": {
   "codemirror_mode": {
    "name": "ipython",
    "version": 3
   },
   "file_extension": ".py",
   "mimetype": "text/x-python",
   "name": "python",
   "nbconvert_exporter": "python",
   "pygments_lexer": "ipython3",
   "version": "3.13.2"
  }
 },
 "nbformat": 4,
 "nbformat_minor": 2
}
